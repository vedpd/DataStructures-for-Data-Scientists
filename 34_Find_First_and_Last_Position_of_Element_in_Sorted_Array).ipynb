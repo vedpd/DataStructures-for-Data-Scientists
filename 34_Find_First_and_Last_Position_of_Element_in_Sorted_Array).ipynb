{
  "nbformat": 4,
  "nbformat_minor": 0,
  "metadata": {
    "colab": {
      "provenance": [],
      "authorship_tag": "ABX9TyNIVwt/pQmgScf2U73dF1WQ",
      "include_colab_link": true
    },
    "kernelspec": {
      "name": "python3",
      "display_name": "Python 3"
    },
    "language_info": {
      "name": "python"
    }
  },
  "cells": [
    {
      "cell_type": "markdown",
      "metadata": {
        "id": "view-in-github",
        "colab_type": "text"
      },
      "source": [
        "<a href=\"https://colab.research.google.com/github/vedpd/DataStructures-for-Data-Scientists/blob/main/34_Find_First_and_Last_Position_of_Element_in_Sorted_Array).ipynb\" target=\"_parent\"><img src=\"https://colab.research.google.com/assets/colab-badge.svg\" alt=\"Open In Colab\"/></a>"
      ]
    },
    {
      "cell_type": "markdown",
      "source": [
        "34. Find First and Last Position of Element in Sorted Array\n",
        "Solved\n",
        "Medium\n",
        "Topics\n",
        "Companies\n",
        "Given an array of integers nums sorted in non-decreasing order, find the starting and ending position of a given target value.\n",
        "\n",
        "If target is not found in the array, return [-1, -1].\n",
        "\n",
        "You must write an algorithm with O(log n) runtime complexity.\n",
        "\n",
        "\n",
        "\n",
        "Example 1:\n",
        "\n",
        "Input: nums = [5,7,7,8,8,10], target = 8\n",
        "Output: [3,4]\n",
        "Example 2:\n",
        "\n",
        "Input: nums = [5,7,7,8,8,10], target = 6\n",
        "Output: [-1,-1]\n",
        "Example 3:\n",
        "\n",
        "Input: nums = [], target = 0\n",
        "Output: [-1,-1]"
      ],
      "metadata": {
        "id": "PAXm4zgSUtdV"
      }
    },
    {
      "cell_type": "code",
      "source": [
        "class Solution:\n",
        "    def searchRange(self, nums, target):\n",
        "\n",
        "        def binary_search(nums, target, is_searching_left):\n",
        "            left = 0\n",
        "            right = len(nums) - 1\n",
        "            idx = -1\n",
        "\n",
        "            while left <= right:\n",
        "                mid = (left + right) // 2\n",
        "\n",
        "                if nums[mid] > target:\n",
        "                    right = mid - 1\n",
        "                elif nums[mid] < target:\n",
        "                    left = mid + 1\n",
        "                else:\n",
        "                    idx = mid\n",
        "                    if is_searching_left:\n",
        "                        right = mid - 1\n",
        "                    else:\n",
        "                        left = mid + 1\n",
        "\n",
        "            return idx\n",
        "\n",
        "        left = binary_search(nums, target, True)\n",
        "        right = binary_search(nums, target, False)\n",
        "\n",
        "        return [left, right]\n",
        ""
      ],
      "metadata": {
        "id": "1qQxBiSiTAtw"
      },
      "execution_count": 3,
      "outputs": []
    },
    {
      "cell_type": "code",
      "source": [
        "nums = [2,4,4,5,6]\n",
        "\n",
        "target = 4\n",
        "\n",
        "s = Solution()\n",
        "s.searchRange(nums, target)\n",
        "\n"
      ],
      "metadata": {
        "colab": {
          "base_uri": "https://localhost:8080/"
        },
        "id": "PYYhp-BvVBPx",
        "outputId": "dfe93ac8-28ed-45ec-89dd-935c3661f8bf"
      },
      "execution_count": 4,
      "outputs": [
        {
          "output_type": "execute_result",
          "data": {
            "text/plain": [
              "[1, 2]"
            ]
          },
          "metadata": {},
          "execution_count": 4
        }
      ]
    },
    {
      "cell_type": "code",
      "source": [],
      "metadata": {
        "id": "tnTBDhwVVIoe"
      },
      "execution_count": null,
      "outputs": []
    }
  ]
}