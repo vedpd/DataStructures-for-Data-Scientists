{
  "nbformat": 4,
  "nbformat_minor": 0,
  "metadata": {
    "colab": {
      "provenance": [],
      "authorship_tag": "ABX9TyNDARy50Eniai4hTrK+lH5l",
      "include_colab_link": true
    },
    "kernelspec": {
      "name": "python3",
      "display_name": "Python 3"
    },
    "language_info": {
      "name": "python"
    }
  },
  "cells": [
    {
      "cell_type": "markdown",
      "metadata": {
        "id": "view-in-github",
        "colab_type": "text"
      },
      "source": [
        "<a href=\"https://colab.research.google.com/github/vedpd/DataStructures-for-Data-Scientists/blob/main/69_Sqrt(x).ipynb\" target=\"_parent\"><img src=\"https://colab.research.google.com/assets/colab-badge.svg\" alt=\"Open In Colab\"/></a>"
      ]
    },
    {
      "cell_type": "markdown",
      "source": [
        "69. Sqrt(x)\n",
        "Solved\n",
        "Easy\n",
        "Topics\n",
        "Companies\n",
        "Hint\n",
        "Given a non-negative integer x, return the square root of x rounded down to the nearest integer. The returned integer should be non-negative as well.\n",
        "\n",
        "You must not use any built-in exponent function or operator.\n",
        "\n",
        "For example, do not use pow(x, 0.5) in c++ or x ** 0.5 in python.\n",
        "\n",
        "\n",
        "Example 1:\n",
        "\n",
        "Input: x = 4\n",
        "Output: 2\n",
        "Explanation: The square root of 4 is 2, so we return 2.\n",
        "Example 2:\n",
        "\n",
        "Input: x = 8\n",
        "Output: 2\n",
        "Explanation: The square root of 8 is 2.82842..., and since we round it down to the nearest integer, 2 is returned."
      ],
      "metadata": {
        "id": "GKyhCpt_S-e-"
      }
    },
    {
      "cell_type": "code",
      "source": [
        "class Solution:\n",
        "    def mySqrt(self, x: int) -> int:\n",
        "        left = 0\n",
        "        right = x\n",
        "        while left <= right:\n",
        "            mid = (left + right)//2\n",
        "\n",
        "            if mid * mid < +x:\n",
        "                left = mid + 1\n",
        "            elif mid * mid > x:\n",
        "                right = mid -1\n",
        "            else:\n",
        "                return mid\n",
        "\n",
        "        return right"
      ],
      "metadata": {
        "id": "1qQxBiSiTAtw"
      },
      "execution_count": 1,
      "outputs": []
    },
    {
      "cell_type": "code",
      "source": [],
      "metadata": {
        "id": "AGe64OrrTI2B"
      },
      "execution_count": null,
      "outputs": []
    }
  ]
}