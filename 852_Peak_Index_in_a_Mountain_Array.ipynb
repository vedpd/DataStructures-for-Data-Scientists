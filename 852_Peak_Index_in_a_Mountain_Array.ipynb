{
  "nbformat": 4,
  "nbformat_minor": 0,
  "metadata": {
    "colab": {
      "provenance": [],
      "authorship_tag": "ABX9TyPR1ClN/EKiKy1qkBBJHKE6",
      "include_colab_link": true
    },
    "kernelspec": {
      "name": "python3",
      "display_name": "Python 3"
    },
    "language_info": {
      "name": "python"
    }
  },
  "cells": [
    {
      "cell_type": "markdown",
      "metadata": {
        "id": "view-in-github",
        "colab_type": "text"
      },
      "source": [
        "<a href=\"https://colab.research.google.com/github/vedpd/DataStructures-for-Data-Scientists/blob/main/852_Peak_Index_in_a_Mountain_Array.ipynb\" target=\"_parent\"><img src=\"https://colab.research.google.com/assets/colab-badge.svg\" alt=\"Open In Colab\"/></a>"
      ]
    },
    {
      "cell_type": "markdown",
      "source": [
        "852. Peak Index in a Mountain Array\n",
        "Solved\n",
        "Medium\n",
        "Topics\n",
        "Companies\n",
        "An array arr is a mountain if the following properties hold:\n",
        "\n",
        "arr.length >= 3\n",
        "There exists some i with 0 < i < arr.length - 1 such that:\n",
        "arr[0] < arr[1] < ... < arr[i - 1] < arr[i]\n",
        "arr[i] > arr[i + 1] > ... > arr[arr.length - 1]\n",
        "Given a mountain array arr, return the index i such that arr[0] < arr[1] < ... < arr[i - 1] < arr[i] > arr[i + 1] > ... > arr[arr.length - 1].\n",
        "\n",
        "You must solve it in O(log(arr.length)) time complexity.\n",
        "\n",
        "\n",
        "\n",
        "Example 1:\n",
        "\n",
        "Input: arr = [0,1,0]\n",
        "Output: 1\n",
        "Example 2:\n",
        "\n",
        "Input: arr = [0,2,1,0]\n",
        "Output: 1\n",
        "Example 3:\n",
        "\n",
        "Input: arr = [0,10,5,2]\n",
        "Output: 1"
      ],
      "metadata": {
        "id": "PAXm4zgSUtdV"
      }
    },
    {
      "cell_type": "code",
      "source": [
        "# O(n) solution\n",
        "\n",
        "class Solution:\n",
        "    def peakIndexInMountainArray(self, arr: List[int]) -> int:\n",
        "        max= arr[0]\n",
        "        max_index = 0\n",
        "        for i in range(1,len(arr)):\n",
        "            if arr[i] > max:\n",
        "                max= arr[i]\n",
        "                max_index = i\n",
        "        return max_index"
      ],
      "metadata": {
        "id": "hF4AZbWBWELe"
      },
      "execution_count": null,
      "outputs": []
    },
    {
      "cell_type": "code",
      "source": [
        "# O(logn) solution\n",
        "\n",
        "class Solution:\n",
        "    def peakIndexInMountainArrayBinSearch(self, arr):\n",
        "        left= 0\n",
        "        right = len(arr)-1\n",
        "\n",
        "        while left <= right:\n",
        "            mid = (right + left)//2\n",
        "\n",
        "            if arr[mid-1] <= arr[mid] and arr[mid + 1]<= arr[mid]:\n",
        "                return mid\n",
        "            elif arr[mid-1]> arr[mid]:\n",
        "                right = mid\n",
        "            else:\n",
        "                left = mid\n"
      ],
      "metadata": {
        "id": "KVmlcJWjWIe_"
      },
      "execution_count": 10,
      "outputs": []
    },
    {
      "cell_type": "code",
      "source": [
        "nums = [2,3,4,5,6,3,2,1]\n",
        "s = Solution()\n",
        "s.peakIndexInMountainArrayBinSearch(nums)\n",
        "\n"
      ],
      "metadata": {
        "colab": {
          "base_uri": "https://localhost:8080/"
        },
        "id": "PYYhp-BvVBPx",
        "outputId": "2ec2dda9-923c-489a-fba6-b4e5c7ae4a9c"
      },
      "execution_count": 11,
      "outputs": [
        {
          "output_type": "execute_result",
          "data": {
            "text/plain": [
              "4"
            ]
          },
          "metadata": {},
          "execution_count": 11
        }
      ]
    },
    {
      "cell_type": "code",
      "source": [],
      "metadata": {
        "id": "tnTBDhwVVIoe"
      },
      "execution_count": null,
      "outputs": []
    }
  ]
}