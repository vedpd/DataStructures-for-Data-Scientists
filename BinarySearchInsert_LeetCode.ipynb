{
  "nbformat": 4,
  "nbformat_minor": 0,
  "metadata": {
    "colab": {
      "name": "BinarySearchInsert_LeetCode.ipynb",
      "provenance": [],
      "collapsed_sections": [],
      "authorship_tag": "ABX9TyPWHvj9W3kA0uEmCElGcWgw",
      "include_colab_link": true
    },
    "kernelspec": {
      "name": "python3",
      "display_name": "Python 3"
    }
  },
  "cells": [
    {
      "cell_type": "markdown",
      "metadata": {
        "id": "view-in-github",
        "colab_type": "text"
      },
      "source": [
        "<a href=\"https://colab.research.google.com/github/vedpd/DataStructures-for-Data-Scientists/blob/main/BinarySearchInsert_LeetCode.ipynb\" target=\"_parent\"><img src=\"https://colab.research.google.com/assets/colab-badge.svg\" alt=\"Open In Colab\"/></a>"
      ]
    },
    {
      "cell_type": "markdown",
      "metadata": {
        "id": "4hmtT9efcXXJ"
      },
      "source": [
        "# **Binary Search/ Insert**\n",
        "\n",
        "[Search Insert for Binary Search](https://leetcode.com/problems/search-insert-position/)"
      ]
    },
    {
      "cell_type": "markdown",
      "metadata": {
        "id": "VM-4MQbdc8lF"
      },
      "source": [
        "Given a sorted array of distinct integers and a target value, return the index if the target is found. If not, return the index where it would be if it were inserted in order."
      ]
    },
    {
      "cell_type": "markdown",
      "metadata": {
        "id": "8t4NZAXac-oz"
      },
      "source": [
        "# **Solution factoring all cases and with standard template**"
      ]
    },
    {
      "cell_type": "code",
      "metadata": {
        "id": "JAr3Nw1cciYg"
      },
      "source": [
        "class Solution:\n",
        "    def searchInsert(self, nums: List[int], target: int) -> int:\n",
        "        # Part 1: Initialization\n",
        "        # low starts at first index\n",
        "        # high starts at right index\n",
        "        l, h, mid = 0, len(nums)-1, 0\n",
        "        \n",
        "        # Part 2: Standard Binary Search template\n",
        "        # loop till low is not greater than high\n",
        "        # Template low is less than equal to high\n",
        "        while(l<=h):\n",
        "            mid=(l+h)//2\n",
        "            \n",
        "            if(target==nums[mid]):\n",
        "                return mid\n",
        "            \n",
        "            # Template low <= high\n",
        "            # high moves left of mid if target lies in left subarray\n",
        "            if(target<nums[mid]):\n",
        "                h=mid-1\n",
        "            \n",
        "            # Template low <= high\n",
        "            # low moves right of mid if target lies in right subarray\n",
        "            if(target > nums[mid]):\n",
        "                l=mid+1\n",
        "                \n",
        "        # Part 3: Additional conditional added according to problem statement\n",
        "        # if key is to be inserted at first or middle index\n",
        "        if(l>h) or (h<0):\n",
        "            return l\n",
        "        \n",
        "        # if key is to be inserted at last index\n",
        "        if(mid==len(nums) and a[len(nums)]<key):\n",
        "            return len(nums)-1"
      ],
      "execution_count": null,
      "outputs": []
    }
  ]
}