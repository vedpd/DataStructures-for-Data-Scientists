{
  "nbformat": 4,
  "nbformat_minor": 0,
  "metadata": {
    "colab": {
      "name": "Container with most water.ipynb",
      "provenance": [],
      "collapsed_sections": [],
      "authorship_tag": "ABX9TyMxC9SorUC2s8PgAnCKbKvP",
      "include_colab_link": true
    },
    "kernelspec": {
      "name": "python3",
      "display_name": "Python 3"
    }
  },
  "cells": [
    {
      "cell_type": "markdown",
      "metadata": {
        "id": "view-in-github",
        "colab_type": "text"
      },
      "source": [
        "<a href=\"https://colab.research.google.com/github/vedpd/DataStructures-for-Data-Scientists/blob/main/Container_with_most_water.ipynb\" target=\"_parent\"><img src=\"https://colab.research.google.com/assets/colab-badge.svg\" alt=\"Open In Colab\"/></a>"
      ]
    },
    {
      "cell_type": "markdown",
      "metadata": {
        "id": "aPnVZShhLDFQ"
      },
      "source": [
        "# **Problem statement**\n",
        "Given n non-negative integers a1, a2, ..., an , where each represents a point at coordinate (i, ai). n vertical lines are drawn such that the two endpoints of the line i is at (i, ai) and (i, 0). Find two lines, which, together with the x-axis forms a container, such that the container contains the most water.\n",
        "\n",
        "Notice that you may not slant the container.\n",
        "\n",
        "Example 1 :\n",
        "\n",
        "Input: height = [1,8,6,2,5,4,8,3,7] <br>\n",
        "Output: 49 <br>\n",
        "Explanation: The above vertical lines are represented by array [1,8,6,2,5,4,8,3,7]. In this case, the max area of water (blue section) the container can contain is 49.\n",
        "\n",
        "\n",
        "Example 2: \n",
        "\n",
        "Input: height = [4,3,2,1,4] <br>\n",
        "Output: 16"
      ]
    },
    {
      "cell_type": "markdown",
      "metadata": {
        "id": "GPPeJgmjLLVH"
      },
      "source": [
        "[Question reference - Leetcode](https://leetcode.com/problems/container-with-most-water/)"
      ]
    },
    {
      "cell_type": "markdown",
      "metadata": {
        "id": "FAWGjItxLUiY"
      },
      "source": [
        "# **Best case- Area is max when we can maximize height and width both - two pointer solution**:\n",
        "\n",
        "Initially we consider the area constituting the exterior most lines. \n",
        "Now, to maximize the area, we need to consider the area between the lines of larger lengths. \n",
        "If we try to move the pointer at the longer line inwards, we won't gain any increase in area, since it is limited by the shorter line. But moving the shorter line's pointer could turn out to be beneficial, as per the same argument, despite the reduction in the width. This is done since a relatively longer line obtained by moving the shorter line's pointer might overcome the reduction in area caused by the width reduction.\n",
        "\n",
        "\n",
        "\n"
      ]
    },
    {
      "cell_type": "code",
      "metadata": {
        "id": "B8pNfwUULKKI"
      },
      "source": [
        "class Solution:\n",
        "    def maxArea(self, height: List[int]) -> int:\n",
        "        l,r= 0, len(height)-1\n",
        "        max_ar=0\n",
        "        \n",
        "        while l< r :\n",
        "            max_ar = max(max_ar,min(height[l],height[r])*(r-l))\n",
        "            \n",
        "            if (height[l] < height[r]):\n",
        "                l+=1\n",
        "                \n",
        "            else:\n",
        "                r-=1\n",
        "        \n",
        "        return max_ar\n",
        "                "
      ],
      "execution_count": null,
      "outputs": []
    },
    {
      "cell_type": "markdown",
      "metadata": {
        "id": "qphvLaSaUBim"
      },
      "source": [
        "**Let's understand above case :**\n",
        "\n",
        "1. initial area = area with outer most vertical lines and base as difference of index of start and end\n",
        "2. Now we need to find maximum area, keeping in mind that any height which is lower than the height at initial places(both at start and end) will not contribute to increase in area.\n",
        "3. We keep moving the pointer from left and right to obtain if we find a height which is greater than height on left and similarly is for right pointer.\n",
        "\n",
        "4. we continue to compare area for all such cases and maintain/ save the highest area at each such calculation\n",
        "\n",
        "5. Time complexity : <b> O(n) </b>"
      ]
    },
    {
      "cell_type": "markdown",
      "metadata": {
        "id": "5JoSImuFTm84"
      },
      "source": [
        "# **Worst case - brute force code** \n",
        "\n",
        "The below code is the worst case code, where we are checking or comparing area  as i= 0, height[ 0] =4 ; i=1, height [2]\n",
        "\n",
        "now: max area = 2*1= 2\n",
        "\n",
        "similarly we compare across all indices.\n",
        "\n",
        "Result is if the size of input array is very large, the computation time would be huge resulting in Time Limit Exceeded : <b> O(n^2)"
      ]
    },
    {
      "cell_type": "code",
      "metadata": {
        "id": "ysqb-pQERvKu"
      },
      "source": [
        " class Solution:\n",
        "    def maxArea(self, height: List[int]) -> int:\n",
        "        max_area=0\n",
        "        for i in range(len(height)):\n",
        "            for j in range(i+1,len(height)):\n",
        "                max_area=max(max_area,(min(height[i],height[j])\n",
        "                                       *(j-i)))\n",
        "                \n",
        "        return max_area"
      ],
      "execution_count": null,
      "outputs": []
    }
  ]
}