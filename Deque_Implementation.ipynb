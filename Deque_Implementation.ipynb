{
  "nbformat": 4,
  "nbformat_minor": 0,
  "metadata": {
    "colab": {
      "name": "Deque_Implementation.ipynb",
      "provenance": [],
      "collapsed_sections": [],
      "authorship_tag": "ABX9TyNDhEzT4Nr0uWq0/Y/A0kNN",
      "include_colab_link": true
    },
    "kernelspec": {
      "name": "python3",
      "display_name": "Python 3"
    }
  },
  "cells": [
    {
      "cell_type": "markdown",
      "metadata": {
        "id": "view-in-github",
        "colab_type": "text"
      },
      "source": [
        "<a href=\"https://colab.research.google.com/github/vedpd/DataStructures-for-Data-Scientists/blob/main/Deque_Implementation.ipynb\" target=\"_parent\"><img src=\"https://colab.research.google.com/assets/colab-badge.svg\" alt=\"Open In Colab\"/></a>"
      ]
    },
    {
      "cell_type": "markdown",
      "metadata": {
        "id": "cwizPuGtOIcd"
      },
      "source": [
        "![Deque.png](data:image/png;base64,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)"
      ]
    },
    {
      "cell_type": "markdown",
      "metadata": {
        "id": "_BNkR9GWNIXs"
      },
      "source": [
        "# **Deque Implementation and Functions**\n",
        "\n",
        "Deque can add elements at front as well as rear and similarly it can remove element both from front and rear.\n",
        "\n",
        "Function lists :-\n",
        "1. Deque(): creates empty deque. Parameter : none. Returns : empty deque\n",
        "2. addFront(item) : adds element at front. Parameter: item, Returns: nothing\n",
        "3. addRear(item) : adds element at rear. Parameter: item, Returns: nothing\n",
        "4. removeFront() : remove element from front. Parameter: none. Return: item\n",
        "5. removeRear() : remove element from rear. Parameter: none. Return: item\n",
        "6. isEmpty() : validate if deque is empty. Parameter: none. Return: Boolean\n",
        "7. size() : returns size of deque. Parameter: none. Returns: integer value"
      ]
    },
    {
      "cell_type": "code",
      "metadata": {
        "id": "aqry9q20NGqz"
      },
      "source": [
        "class Deque(object):\n",
        "  def __init__(self):\n",
        "    self.items=[]\n",
        "  \n",
        "  def isEmpty(self):\n",
        "    return self.items==[]\n",
        "  \n",
        "  def addFront(self,item):\n",
        "    return self.items.insert(0,item)\n",
        "  \n",
        "  def addRear(self,item):\n",
        "    return self.items.append(item)\n",
        "  \n",
        "  def removeFront(self):\n",
        "    return self.items.pop(0)\n",
        "  \n",
        "  def removeRear(self):\n",
        "    return self.items.pop()\n",
        "  \n",
        "  def size(self):\n",
        "    return len(self.items)\n",
        "  "
      ],
      "execution_count": 41,
      "outputs": []
    },
    {
      "cell_type": "markdown",
      "metadata": {
        "id": "jewoA0YgP-nF"
      },
      "source": [
        "## **Validate the Deque implementation**"
      ]
    },
    {
      "cell_type": "code",
      "metadata": {
        "id": "6-IYEtZfOHd3"
      },
      "source": [
        "#create a new deck\n",
        "deck = Deque()"
      ],
      "execution_count": 42,
      "outputs": []
    },
    {
      "cell_type": "code",
      "metadata": {
        "id": "6QcczaADOLOn",
        "outputId": "b0b4e118-2fce-419b-c2b8-f9a4a16d1fb1",
        "colab": {
          "base_uri": "https://localhost:8080/"
        }
      },
      "source": [
        "#validate creation\n",
        "deck"
      ],
      "execution_count": 43,
      "outputs": [
        {
          "output_type": "execute_result",
          "data": {
            "text/plain": [
              "<__main__.Deque at 0x7fa7fded6c18>"
            ]
          },
          "metadata": {
            "tags": []
          },
          "execution_count": 43
        }
      ]
    },
    {
      "cell_type": "code",
      "metadata": {
        "id": "CQBfdUHdPCkc",
        "outputId": "b2f99d4e-0ecc-414f-c2a9-e3a195c4d11f",
        "colab": {
          "base_uri": "https://localhost:8080/"
        }
      },
      "source": [
        "#check elements\n",
        "deck.isEmpty()"
      ],
      "execution_count": 44,
      "outputs": [
        {
          "output_type": "execute_result",
          "data": {
            "text/plain": [
              "True"
            ]
          },
          "metadata": {
            "tags": []
          },
          "execution_count": 44
        }
      ]
    },
    {
      "cell_type": "code",
      "metadata": {
        "id": "EdtimfB7PEVm"
      },
      "source": [
        "#add elements\n",
        "deck.addFront(22)"
      ],
      "execution_count": 45,
      "outputs": []
    },
    {
      "cell_type": "code",
      "metadata": {
        "id": "ZPY_CrDmPOlL",
        "outputId": "f57dd839-b4e7-4fba-d141-300845c0b8f0",
        "colab": {
          "base_uri": "https://localhost:8080/"
        }
      },
      "source": [
        "print(deck.items)"
      ],
      "execution_count": 46,
      "outputs": [
        {
          "output_type": "stream",
          "text": [
            "[22]\n"
          ],
          "name": "stdout"
        }
      ]
    },
    {
      "cell_type": "code",
      "metadata": {
        "id": "NLqd5G0-QO4E",
        "outputId": "e549610b-bb61-4413-b1ea-0c283e682989",
        "colab": {
          "base_uri": "https://localhost:8080/"
        }
      },
      "source": [
        "#validate the deck's emptiness and size\n",
        "\n",
        "print(deck.isEmpty())\n",
        "print(deck.size())"
      ],
      "execution_count": 47,
      "outputs": [
        {
          "output_type": "stream",
          "text": [
            "False\n",
            "1\n"
          ],
          "name": "stdout"
        }
      ]
    },
    {
      "cell_type": "code",
      "metadata": {
        "id": "ixE9kxSnPcLk"
      },
      "source": [
        "#add one more element at front\n",
        "deck.addFront(33)"
      ],
      "execution_count": 48,
      "outputs": []
    },
    {
      "cell_type": "code",
      "metadata": {
        "id": "RozphffCPfPd",
        "outputId": "41028793-8c62-42be-d60b-6aa361c26a16",
        "colab": {
          "base_uri": "https://localhost:8080/"
        }
      },
      "source": [
        "#validate list of items\n",
        "deck.items"
      ],
      "execution_count": 49,
      "outputs": [
        {
          "output_type": "execute_result",
          "data": {
            "text/plain": [
              "[33, 22]"
            ]
          },
          "metadata": {
            "tags": []
          },
          "execution_count": 49
        }
      ]
    },
    {
      "cell_type": "code",
      "metadata": {
        "id": "xyNcmKNHPg6f"
      },
      "source": [
        "#validate addition of elements at rear\n",
        "deck.addRear(112)"
      ],
      "execution_count": 50,
      "outputs": []
    },
    {
      "cell_type": "code",
      "metadata": {
        "id": "kgqe-JfUPj9w",
        "outputId": "d5232751-89ba-46b2-bb5b-281ad53d02a9",
        "colab": {
          "base_uri": "https://localhost:8080/"
        }
      },
      "source": [
        "#list of itmes\n",
        "deck.items\n"
      ],
      "execution_count": 51,
      "outputs": [
        {
          "output_type": "execute_result",
          "data": {
            "text/plain": [
              "[33, 22, 112]"
            ]
          },
          "metadata": {
            "tags": []
          },
          "execution_count": 51
        }
      ]
    },
    {
      "cell_type": "markdown",
      "metadata": {
        "id": "YuAUQDs9Qrsk"
      },
      "source": [
        "As per above scenario order of elements are\n",
        "\n",
        "1. Front element = 33\n",
        "2. Middle element = 22\n",
        "3. Rear element = 112"
      ]
    },
    {
      "cell_type": "code",
      "metadata": {
        "id": "dXp32gnIPkuV",
        "outputId": "dc093c1f-7940-4c64-a317-658ad749a5e7",
        "colab": {
          "base_uri": "https://localhost:8080/"
        }
      },
      "source": [
        "#Removal from front\n",
        "deck.removeFront()"
      ],
      "execution_count": 52,
      "outputs": [
        {
          "output_type": "execute_result",
          "data": {
            "text/plain": [
              "33"
            ]
          },
          "metadata": {
            "tags": []
          },
          "execution_count": 52
        }
      ]
    },
    {
      "cell_type": "code",
      "metadata": {
        "id": "uip3kyP_PnUP",
        "outputId": "d936e6b0-9c4c-4c8b-98a3-5d2ca27c8a0c",
        "colab": {
          "base_uri": "https://localhost:8080/"
        }
      },
      "source": [
        "#Deck item details\n",
        "deck.items"
      ],
      "execution_count": 53,
      "outputs": [
        {
          "output_type": "execute_result",
          "data": {
            "text/plain": [
              "[22, 112]"
            ]
          },
          "metadata": {
            "tags": []
          },
          "execution_count": 53
        }
      ]
    },
    {
      "cell_type": "code",
      "metadata": {
        "id": "ggqQVVIrPoaR",
        "outputId": "c9134013-d8fa-4997-dba5-c5e85a780fa8",
        "colab": {
          "base_uri": "https://localhost:8080/"
        }
      },
      "source": [
        "#Removal from rear\n",
        "deck.removeRear()"
      ],
      "execution_count": 54,
      "outputs": [
        {
          "output_type": "execute_result",
          "data": {
            "text/plain": [
              "112"
            ]
          },
          "metadata": {
            "tags": []
          },
          "execution_count": 54
        }
      ]
    },
    {
      "cell_type": "code",
      "metadata": {
        "id": "nB8KtFbJPqtQ",
        "outputId": "701cf0fb-486d-463e-a86b-0f997a4dd49f",
        "colab": {
          "base_uri": "https://localhost:8080/"
        }
      },
      "source": [
        "#list of items left\n",
        "deck.items"
      ],
      "execution_count": 55,
      "outputs": [
        {
          "output_type": "execute_result",
          "data": {
            "text/plain": [
              "[22]"
            ]
          },
          "metadata": {
            "tags": []
          },
          "execution_count": 55
        }
      ]
    },
    {
      "cell_type": "code",
      "metadata": {
        "id": "x7bE6LggPr4a",
        "outputId": "cdc76c86-f63b-467d-d100-d3f71a36d811",
        "colab": {
          "base_uri": "https://localhost:8080/"
        }
      },
      "source": [
        "#removing final element\n",
        "deck.removeRear()"
      ],
      "execution_count": 56,
      "outputs": [
        {
          "output_type": "execute_result",
          "data": {
            "text/plain": [
              "22"
            ]
          },
          "metadata": {
            "tags": []
          },
          "execution_count": 56
        }
      ]
    },
    {
      "cell_type": "code",
      "metadata": {
        "id": "TQeTH_98Pt_z",
        "outputId": "daf691d9-dde2-46e0-ff68-776ba2b5e020",
        "colab": {
          "base_uri": "https://localhost:8080/"
        }
      },
      "source": [
        "#deck should be empty by now\n",
        "deck.items"
      ],
      "execution_count": 57,
      "outputs": [
        {
          "output_type": "execute_result",
          "data": {
            "text/plain": [
              "[]"
            ]
          },
          "metadata": {
            "tags": []
          },
          "execution_count": 57
        }
      ]
    },
    {
      "cell_type": "code",
      "metadata": {
        "id": "Ca2FCc0MPvKK",
        "outputId": "a0fecb25-fc10-4515-9823-29d994a9583d",
        "colab": {
          "base_uri": "https://localhost:8080/"
        }
      },
      "source": [
        "#Validate if it is empty\n",
        "deck.isEmpty()"
      ],
      "execution_count": 58,
      "outputs": [
        {
          "output_type": "execute_result",
          "data": {
            "text/plain": [
              "True"
            ]
          },
          "metadata": {
            "tags": []
          },
          "execution_count": 58
        }
      ]
    },
    {
      "cell_type": "code",
      "metadata": {
        "id": "LUBSrxmGPwrQ",
        "outputId": "5188edaa-e0d5-4ea6-a0fb-6fbff2525c4a",
        "colab": {
          "base_uri": "https://localhost:8080/"
        }
      },
      "source": [
        "#validate the size of deque\n",
        "deck.size()"
      ],
      "execution_count": 59,
      "outputs": [
        {
          "output_type": "execute_result",
          "data": {
            "text/plain": [
              "0"
            ]
          },
          "metadata": {
            "tags": []
          },
          "execution_count": 59
        }
      ]
    },
    {
      "cell_type": "code",
      "metadata": {
        "id": "4Agk1oKGPyjM"
      },
      "source": [
        ""
      ],
      "execution_count": null,
      "outputs": []
    }
  ]
}