{
  "nbformat": 4,
  "nbformat_minor": 0,
  "metadata": {
    "colab": {
      "name": "FindFirst_Last_SortedArray.ipynb",
      "provenance": [],
      "authorship_tag": "ABX9TyPp0W4Up4+EEJDrHQNWNRMs",
      "include_colab_link": true
    },
    "kernelspec": {
      "name": "python3",
      "display_name": "Python 3"
    }
  },
  "cells": [
    {
      "cell_type": "markdown",
      "metadata": {
        "id": "view-in-github",
        "colab_type": "text"
      },
      "source": [
        "<a href=\"https://colab.research.google.com/github/vedpd/DataStructures-for-Data-Scientists/blob/main/FindFirst_Last_SortedArray.ipynb\" target=\"_parent\"><img src=\"https://colab.research.google.com/assets/colab-badge.svg\" alt=\"Open In Colab\"/></a>"
      ]
    },
    {
      "cell_type": "markdown",
      "metadata": {
        "id": "aPnVZShhLDFQ"
      },
      "source": [
        "# **Problem statement**\n",
        "\n",
        "Given an array of integers nums sorted in ascending order, find the starting and ending position of a given target value.\n",
        "\n",
        "If target is not found in the array, return [-1, -1]."
      ]
    },
    {
      "cell_type": "markdown",
      "metadata": {
        "id": "GPPeJgmjLLVH"
      },
      "source": [
        "[Question reference - Leetcode](https://leetcode.com/problems/find-first-and-last-position-of-element-in-sorted-array/)"
      ]
    },
    {
      "cell_type": "markdown",
      "metadata": {
        "id": "FAWGjItxLUiY"
      },
      "source": [
        "# **Solution 1- Linear Search**:\n",
        "\n",
        "\n",
        "\n",
        " \n",
        "\n",
        "1.   **Time complexity - O(n)** - as we are traversing through entire elements of list and the time taken will depende on total number of elements of list.\n",
        "\n",
        "2.   **Space Complexity - O(1)** - since no new list or array is created, hence it is not dependent on addition of any new element\n",
        "\n",
        "\n"
      ]
    },
    {
      "cell_type": "code",
      "metadata": {
        "id": "B8pNfwUULKKI"
      },
      "source": [
        "class Solution:\n",
        "    def searchRange(self, nums: List[int], target: int) -> List[int]:\n",
        "        \n",
        "        left, right = -1, -1\n",
        "        \n",
        "        # for getting index from left side\n",
        "        for i in range(len(nums)):\n",
        "            if nums[i] == target:\n",
        "                left=i\n",
        "                break\n",
        "     \n",
        "        \n",
        "        #for getting elements from right side\n",
        "        for j in range(len(nums)-1, -1, -1):\n",
        "            if(nums[j] == target):\n",
        "                right = j\n",
        "                break\n",
        "        \n",
        "        return [left,right]"
      ],
      "execution_count": null,
      "outputs": []
    },
    {
      "cell_type": "markdown",
      "metadata": {
        "id": "KmySmr9jMavS"
      },
      "source": [
        "# **Solution 2- Binary Search**:\n",
        " \n",
        "\n",
        "1.   **Time complexity - O(logn)** - as we are traversing through entire elements of list and the time taken will depende on total number of elements of list.\n",
        "\n",
        "2.   **Space Complexity - O(1)** - since no new list or array is created, hence it is not dependent on addition of any new element\n",
        "\n",
        "\n"
      ]
    },
    {
      "cell_type": "code",
      "metadata": {
        "id": "zX_AB9h7MgnU"
      },
      "source": [
        "class Solution:\n",
        "    \n",
        "    #using one method to get left most and right most value.\n",
        "    def searchRange(self, nums: List[int], target: int) -> List[int]:\n",
        "        lmost = self.leftsearch(nums,target)\n",
        "        rmost = self.rightsearch(nums,target)\n",
        "        return[lmost,rmost]\n",
        "    \n",
        "    #LEFT SEARCH\n",
        "    #Validate left search separately using binary search\n",
        "    # for left side to have a constraint, we have l starting from left\n",
        "    # to get a box/block of shorter sub array, move r towards left\n",
        "    # movement of r would happen as usual when mid value is greater than target\n",
        "    # movement of r would also happen when the target value is found\n",
        "    # shift r by 1 left of mid so that a new mid is found\n",
        "    # if target matches new mid then we iterate through this process.\n",
        "        \n",
        "    def leftsearch(self,A,tar):\n",
        "        l = 0\n",
        "        r = len(A)-1\n",
        "        tarI = -1#target index\n",
        "        while l <= r:\n",
        "            mid = (l+r)//2\n",
        "            \n",
        "            if A[mid] > tar:\n",
        "                r = mid - 1\n",
        "                    \n",
        "            if A[mid] < tar:\n",
        "                l = mid + 1\n",
        "                    \n",
        "            if A[mid]==tar:\n",
        "                tarI = mid\n",
        "                r = mid - 1\n",
        "        return tarI\n",
        "    \n",
        "    \n",
        "    #RIGHT SEARCH\n",
        "    #Validate right search separately using binary search\n",
        "    # for right side to have a constraint, we have r starting from right\n",
        "    # to get a box/block of shorter sub array, move l towards right\n",
        "    # movement of l would happen as usual when mid value is less than target\n",
        "    # movement of l would also happen when the target value is found\n",
        "    # shift l by 1 right of mid so that a new mid is found\n",
        "    # if target matches new mid then we iterate through this process.\n",
        "    \n",
        "    def rightsearch(self,A,tar):\n",
        "        l = 0\n",
        "        r = len(A)-1\n",
        "        tarI = -1\n",
        "        while l <= r:\n",
        "            mid = (l+r)//2\n",
        "                \n",
        "            if A[mid] > tar:\n",
        "                r = mid -1\n",
        "                    \n",
        "            if A[mid] <tar:\n",
        "                l = mid + 1\n",
        "            \n",
        "            if A[mid]==tar:\n",
        "                tarI = mid\n",
        "                l = mid+1\n",
        "        return tarI"
      ],
      "execution_count": null,
      "outputs": []
    }
  ]
}