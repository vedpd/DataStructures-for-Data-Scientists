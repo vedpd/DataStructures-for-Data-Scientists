{
  "nbformat": 4,
  "nbformat_minor": 0,
  "metadata": {
    "colab": {
      "name": "Group Anagrams.ipynb",
      "provenance": [],
      "collapsed_sections": [],
      "authorship_tag": "ABX9TyOGIIv8bOx9piwCzdiLRCTv",
      "include_colab_link": true
    },
    "kernelspec": {
      "name": "python3",
      "display_name": "Python 3"
    }
  },
  "cells": [
    {
      "cell_type": "markdown",
      "metadata": {
        "id": "view-in-github",
        "colab_type": "text"
      },
      "source": [
        "<a href=\"https://colab.research.google.com/github/vedpd/DataStructures-for-Data-Scientists/blob/main/Group_Anagrams.ipynb\" target=\"_parent\"><img src=\"https://colab.research.google.com/assets/colab-badge.svg\" alt=\"Open In Colab\"/></a>"
      ]
    },
    {
      "cell_type": "markdown",
      "metadata": {
        "id": "aPnVZShhLDFQ"
      },
      "source": [
        "# **Problem statement**\n",
        "Given an array of strings strs, group the anagrams together. You can return the answer in any order.\n",
        "\n",
        "An Anagram is a word or phrase formed by rearranging the letters of a different word or phrase, typically using all the original letters exactly once.\n",
        "\n",
        "Example:\n",
        "\n",
        "Input: strs = [\"eat\",\"tea\",\"tan\",\"ate\",\"nat\",\"bat\"] <br>\n",
        "Output: [[\"bat\"],[\"nat\",\"tan\"],[\"ate\",\"eat\",\"tea\"]]"
      ]
    },
    {
      "cell_type": "markdown",
      "metadata": {
        "id": "GPPeJgmjLLVH"
      },
      "source": [
        "[Question reference - Leetcode](https://leetcode.com/problems/group-anagrams/)"
      ]
    },
    {
      "cell_type": "markdown",
      "metadata": {
        "id": "FAWGjItxLUiY"
      },
      "source": [
        "# **Categorize by Sorted String**:\n",
        "\n",
        "Two strings are anagrams if and only if their sorted strings are equal.\n",
        "\n",
        "\n",
        "1. Maintain a map ans : {String -> List} where each key K is a sorted string, and each value is the list of strings from the initial input that when sorted, are equal to K\n",
        "\n",
        "\n",
        "\n",
        "\n"
      ]
    },
    {
      "cell_type": "code",
      "metadata": {
        "id": "B8pNfwUULKKI"
      },
      "source": [
        "class Solution:\n",
        "    def groupAnagrams(self, strs: List[str]) -> List[List[str]]:\n",
        "        ans = collections.defaultdict(list)\n",
        "        \n",
        "        for s in strs:\n",
        "            ans[tuple(sorted(s))].append(s)\n",
        "        return ans.values()"
      ],
      "execution_count": null,
      "outputs": []
    },
    {
      "cell_type": "markdown",
      "metadata": {
        "id": "qphvLaSaUBim"
      },
      "source": [
        "**Let's understand above case :**\n",
        "\n",
        "1. defaultdict : used to create a dictionary and input list tells that the value pair will be a list.\n",
        "\n",
        "2. when we write tuple(string) - what it does is that it breaks all alphabets separately as a unique element\n",
        "\n",
        "3. applying sorted makes the tuple get sorted from 1st to last alphabetical element\n",
        "\n",
        "4. ans[tuple(sorted(s))] -> is now referring to value which is nothing but a list and what we are saying is that whenever we have this sorted tuple, exactly found , just append the list with the word created having same unique elements.\n",
        "\n",
        "5. In the end we are returning dictionary values, which has got all the anagrams grouped together in form of list."
      ]
    },
    {
      "cell_type": "code",
      "metadata": {
        "id": "_W2IhxclVqte"
      },
      "source": [
        "# using list as key by combining characters to make it string, an immutable key :\n",
        "\n",
        "class Solution:\n",
        "    def groupAnagrams(self, strs):\n",
        "        from collections import defaultdict\n",
        "        dic = defaultdict(list)\n",
        "        for c in strs: \n",
        "            dic[\"\".join(sorted(c))].append(c) # \"\".join(sorted(c)) -> \n",
        "                                              # breaks down the characters of c, converts into list and to make it immutable by combining characters to make string.\n",
        "        return list(dic.values())"
      ],
      "execution_count": null,
      "outputs": []
    },
    {
      "cell_type": "markdown",
      "metadata": {
        "id": "QwrGPxsPUx2g"
      },
      "source": [
        "# **Categorize by Count**:\n",
        "Intuition\n",
        "\n",
        "Two strings are anagrams if and only if their character counts (respective number of occurrences of each character) are the same.\n",
        "\n",
        "Algorithm\n",
        "\n",
        "We can transform each string s into a character count,consisting of 26 non-negative integers representing the number of a's, b's, c's, etc. We use these counts as the basis for our hash map.\n",
        "\n",
        "\n",
        "\n",
        "\n"
      ]
    },
    {
      "cell_type": "code",
      "metadata": {
        "id": "mkmLd1fWrmuA"
      },
      "source": [
        "class Solution:\n",
        "    def groupAnagrams(strs):\n",
        "        ans = collections.defaultdict(list)\n",
        "        for s in strs:\n",
        "            count = [0] * 26\n",
        "            for c in s:\n",
        "                count[ord(c) - ord('a')] += 1\n",
        "            ans[tuple(count)].append(s)\n",
        "        return ans.values()"
      ],
      "execution_count": 1,
      "outputs": []
    },
    {
      "cell_type": "code",
      "metadata": {
        "id": "vN7TzFkpKwbU",
        "outputId": "863314c2-983d-4195-ebfa-8f631f53f22d",
        "colab": {
          "base_uri": "https://localhost:8080/"
        }
      },
      "source": [
        "ord('a')"
      ],
      "execution_count": 1,
      "outputs": [
        {
          "output_type": "execute_result",
          "data": {
            "text/plain": [
              "97"
            ]
          },
          "metadata": {
            "tags": []
          },
          "execution_count": 1
        }
      ]
    },
    {
      "cell_type": "code",
      "metadata": {
        "id": "6AyfkMkEKxZ2"
      },
      "source": [
        ""
      ],
      "execution_count": null,
      "outputs": []
    }
  ]
}