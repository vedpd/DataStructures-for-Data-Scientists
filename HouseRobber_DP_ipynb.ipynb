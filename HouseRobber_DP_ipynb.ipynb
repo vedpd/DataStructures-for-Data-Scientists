{
  "nbformat": 4,
  "nbformat_minor": 0,
  "metadata": {
    "colab": {
      "provenance": [],
      "authorship_tag": "ABX9TyMUlFvILKfv4b4Hsi9f8I/C",
      "include_colab_link": true
    },
    "kernelspec": {
      "name": "python3",
      "display_name": "Python 3"
    },
    "language_info": {
      "name": "python"
    }
  },
  "cells": [
    {
      "cell_type": "markdown",
      "metadata": {
        "id": "view-in-github",
        "colab_type": "text"
      },
      "source": [
        "<a href=\"https://colab.research.google.com/github/vedpd/DataStructures-for-Data-Scientists/blob/main/HouseRobber_DP_ipynb.ipynb\" target=\"_parent\"><img src=\"https://colab.research.google.com/assets/colab-badge.svg\" alt=\"Open In Colab\"/></a>"
      ]
    },
    {
      "cell_type": "markdown",
      "source": [
        "[House Robber](https://leetcode.com/problems/house-robber/description/)\n",
        "\n",
        "You are a professional robber planning to rob houses along a street. Each house has a certain amount of money stashed, the only constraint stopping you from robbing each of them is that adjacent houses have security systems connected and it will automatically contact the police if two adjacent houses were broken into on the same night.\n",
        "\n",
        "Given an integer array nums representing the amount of money of each house, return the maximum amount of money you can rob tonight without alerting the police.\n",
        "\n",
        "\n",
        "\n",
        "Example 1:\n",
        "\n",
        "Input: nums = [1,2,3,1]\n",
        "Output: 4\n",
        "Explanation: Rob house 1 (money = 1) and then rob house 3 (money = 3).\n",
        "Total amount you can rob = 1 + 3 = 4.\n",
        "Example 2:\n",
        "\n",
        "Input: nums = [2,7,9,3,1]\n",
        "Output: 12\n",
        "Explanation: Rob house 1 (money = 2), rob house 3 (money = 9) and rob house 5 (money = 1).\n",
        "Total amount you can rob = 2 + 9 + 1 = 12.\n",
        "\n",
        "\n",
        "Constraints:\n",
        "\n",
        "1 <= nums.length <= 100\n",
        "0 <= nums[i] <= 400\n"
      ],
      "metadata": {
        "id": "adPGU-fhxjDp"
      }
    },
    {
      "cell_type": "code",
      "execution_count": null,
      "metadata": {
        "id": "mOamxvbExehc"
      },
      "outputs": [],
      "source": [
        "class Solution:\n",
        "    def rob(self, nums: List[int]) -> int:\n",
        "\n",
        "        for i in range(1, len(nums)):\n",
        "            if i == 1:\n",
        "                nums[i] = max(nums[i],nums[i-1])\n",
        "            else:\n",
        "                nums[i] = max(nums[i] + nums[i-2] , nums[i-1])\n",
        "\n",
        "        return nums[-1]"
      ]
    }
  ]
}