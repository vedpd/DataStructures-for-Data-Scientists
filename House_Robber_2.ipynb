{
  "nbformat": 4,
  "nbformat_minor": 0,
  "metadata": {
    "colab": {
      "provenance": [],
      "authorship_tag": "ABX9TyNCHhBhBDXSbYNU9+hs/wSM",
      "include_colab_link": true
    },
    "kernelspec": {
      "name": "python3",
      "display_name": "Python 3"
    },
    "language_info": {
      "name": "python"
    }
  },
  "cells": [
    {
      "cell_type": "markdown",
      "metadata": {
        "id": "view-in-github",
        "colab_type": "text"
      },
      "source": [
        "<a href=\"https://colab.research.google.com/github/vedpd/DataStructures-for-Data-Scientists/blob/main/House_Robber_2.ipynb\" target=\"_parent\"><img src=\"https://colab.research.google.com/assets/colab-badge.svg\" alt=\"Open In Colab\"/></a>"
      ]
    },
    {
      "cell_type": "markdown",
      "source": [
        "213. [House Robber II](https://leetcode.com/problems/house-robber-ii/description/)\n",
        "Solved\n",
        "Medium\n",
        "Topics\n",
        "Companies\n",
        "Hint\n",
        "You are a professional robber planning to rob houses along a street. Each house has a certain amount of money stashed. All houses at this place are arranged in a circle. That means the first house is the neighbor of the last one. Meanwhile, adjacent houses have a security system connected, and it will automatically contact the police if two adjacent houses were broken into on the same night.\n",
        "\n",
        "Given an integer array nums representing the amount of money of each house, return the maximum amount of money you can rob tonight without alerting the police.\n",
        "\n",
        "\n",
        "\n",
        "Example 1:\n",
        "\n",
        "Input: nums = [2,3,2]\n",
        "Output: 3\n",
        "Explanation: You cannot rob house 1 (money = 2) and then rob house 3 (money = 2), because they are adjacent houses.\n",
        "Example 2:\n",
        "\n",
        "Input: nums = [1,2,3,1]\n",
        "Output: 4\n",
        "Explanation: Rob house 1 (money = 1) and then rob house 3 (money = 3).\n",
        "Total amount you can rob = 1 + 3 = 4.\n",
        "Example 3:\n",
        "\n",
        "Input: nums = [1,2,3]\n",
        "Output: 3\n",
        "\n",
        "\n",
        "Constraints:\n",
        "\n",
        "1 <= nums.length <= 100\n",
        "0 <= nums[i] <= 1000"
      ],
      "metadata": {
        "id": "PM36flh-1OjU"
      }
    },
    {
      "cell_type": "code",
      "execution_count": null,
      "metadata": {
        "id": "JEUEKd7p1MJx"
      },
      "outputs": [],
      "source": [
        "class Solution:\n",
        "\n",
        "    def helper(self, nums):\n",
        "        for i in range(1, len(nums)):\n",
        "            if i == 1:\n",
        "                nums[i] = max(nums[i],nums[i-1])\n",
        "            else:\n",
        "                nums[i] = max(nums[i] + nums[i-2] , nums[i-1])\n",
        "\n",
        "        return nums[-1]\n",
        "\n",
        "    def rob(self, nums: List[int]) -> int:\n",
        "        if len(nums) == 1:\n",
        "            return nums[0]\n",
        "        return max(self.helper(nums[1:]), self.helper(nums[:-1]))\n",
        ""
      ]
    },
    {
      "cell_type": "code",
      "source": [],
      "metadata": {
        "id": "OLuyPUA21ZDS"
      },
      "execution_count": null,
      "outputs": []
    }
  ]
}