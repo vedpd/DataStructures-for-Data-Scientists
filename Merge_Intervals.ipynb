{
  "nbformat": 4,
  "nbformat_minor": 0,
  "metadata": {
    "colab": {
      "name": "Merge Intervals.ipynb",
      "provenance": [],
      "collapsed_sections": [],
      "authorship_tag": "ABX9TyNNbWWwzntDU5zozKO7IJRL",
      "include_colab_link": true
    },
    "kernelspec": {
      "name": "python3",
      "display_name": "Python 3"
    }
  },
  "cells": [
    {
      "cell_type": "markdown",
      "metadata": {
        "id": "view-in-github",
        "colab_type": "text"
      },
      "source": [
        "<a href=\"https://colab.research.google.com/github/vedpd/DataStructures-for-Data-Scientists/blob/main/Merge_Intervals.ipynb\" target=\"_parent\"><img src=\"https://colab.research.google.com/assets/colab-badge.svg\" alt=\"Open In Colab\"/></a>"
      ]
    },
    {
      "cell_type": "markdown",
      "metadata": {
        "id": "aPnVZShhLDFQ"
      },
      "source": [
        "# **Problem statement**\n",
        "\n",
        "Given a collection of intervals, merge all overlapping intervals.\n",
        "\n",
        "<b> Example 1: </b>\n",
        "Input: intervals = [[1,3],[2,6],[8,10],[15,18]]<br>\n",
        "Output: [[1,6],[8,10],[15,18]] <br>\n",
        "Explanation: Since intervals [1,3] and [2,6] overlaps, merge them into [1,6]. <br> <br>\n",
        "\n",
        "<b> Example 2: </b>\n",
        "\n",
        "Input: intervals = [[1,4],[4,5]] <br>\n",
        "Output: [[1,5]] <br>\n",
        "Explanation: Intervals [1,4] and [4,5] are considered overlapping.<br>"
      ]
    },
    {
      "cell_type": "markdown",
      "metadata": {
        "id": "GPPeJgmjLLVH"
      },
      "source": [
        "[Question reference - Leetcode](https://leetcode.com/problems/merge-intervals/)"
      ]
    },
    {
      "cell_type": "markdown",
      "metadata": {
        "id": "KmySmr9jMavS"
      },
      "source": [
        "# **Solution 2- Best case**:\n",
        " \n",
        "\n",
        "1.   **Time complexity - O(n logn)** - sorting the array first by the first element of each list and then traversing list and updating intervals based on 2nd element of each list within overall interval set\n",
        "\n"
      ]
    },
    {
      "cell_type": "code",
      "metadata": {
        "id": "zX_AB9h7MgnU"
      },
      "source": [
        "class Solution:\n",
        "    def merge(self, intervals: List[List[int]]) -> List[List[int]]:\n",
        "        intervals.sort(key=lambda x: x[0])\n",
        "        \n",
        "        merged=[]\n",
        "        \n",
        "        for interval in intervals:\n",
        "# if the list of merged intervals is empty or if the current\n",
        "# interval does not overlap with the previous, simply append it.   \n",
        "    \n",
        "            if not merged or merged[-1][1]< interval[0]:\n",
        "                merged.append(interval)\n",
        "            \n",
        "            else:\n",
        "# otherwise, there is overlap, so we merge the current and previous\n",
        "            # intervals.\n",
        "                merged[-1][1] = max(merged[-1][1], interval[1])\n",
        "\n",
        "                \n",
        "        return merged"
      ],
      "execution_count": null,
      "outputs": []
    },
    {
      "cell_type": "markdown",
      "metadata": {
        "id": "xzgQFbf6VFIu"
      },
      "source": [
        "## **Let's understand the above code with an example :- <br>**\n",
        "\n",
        "example:  [[1,5],[2,6],[6,9],[7,8],12,14]] <br>\n",
        "\n",
        "In this example we have: <br>\n",
        "1.  Internally overlapping set (1 interval's end is less than subsequent overlapping) <br>\n",
        "2.  one interval ending and next interval starting\n",
        "3.  one interval contained inside another interval\n",
        "4.  non coinciding intervals\n",
        "\n",
        "Above 4 are the only probable cases\n",
        "\n",
        "\n",
        "\n",
        "\n",
        "\n",
        "\n"
      ]
    },
    {
      "cell_type": "markdown",
      "metadata": {
        "id": "kbyKxVzpOs4_"
      },
      "source": [
        "1. first we merge the above list based on 1st element of each interval. In the example above it is already sorted on first element.\n",
        "2. Post this we create an empty list so that we can merge the intervals.\n",
        "3. when we pick first interval = [1,5] - it goes in the if condition which says.. not merged - means merged doesnt have any element? True\n",
        "4. add the first interval in merge, thus the element now merged =  [[1,5]]\n",
        "5. Picking 2nd element : [2,6] : if not merged = false, then there is OR\n"
      ]
    },
    {
      "cell_type": "markdown",
      "metadata": {
        "id": "8djKzRtmOllK"
      },
      "source": [
        "condition so let' check 2nd statement = merged[-1] = means take last list in merged, in this case it is [1,5].\n",
        "\n",
        "6. Then take 1st element of this list = 1, thus merged[-1][1] = 5\n",
        "\n",
        "7. is 5 < next interval's element at 0th index = 2? False.\n",
        "\n",
        "8. Since both conditions are false- it means there is an overlap, hence move to else part, now in else part it checks:\n",
        "merged[-1][1] = max(merged[-1][1], interval[1]) -> which is max(5,6)\n",
        "thus merged[-1][1]= 6 , \n",
        "\n",
        "merged as of now = [[1,6]]\n",
        "\n",
        "9. Moving along, next interval = [6,9]\n",
        ": if condition : not merged= false\n",
        "                merged[-1] = [1,6] \n",
        "                merged[-1][1] = 6\n",
        "                interval[0]= 6\n",
        "                is 6<6 ? - false \n",
        "                2 false conditons -> move to else\n",
        "\n",
        ":else :\n",
        "            merged[-1][1] = max(6,interval[1])\n",
        "                          =max(6,9)= 9\n",
        "\n",
        "merged as of now [[1,9]]\n",
        "\n",
        "10. moving along : next interval [ 7,8]\n",
        "\n",
        ": if condition : not merged= false\n",
        "                merged[-1] = [1,9] \n",
        "                merged[-1][1] = 9\n",
        "                interval[0]= 7\n",
        "                is 9<7 ? - false \n",
        "                2 false conditons -> move to else\n",
        "\n",
        ":else :\n",
        "            merged[-1][1] = max(9,interval[1])\n",
        "                          =max(9,8)= 9\n",
        "\n",
        "merged as of now : [[1,9]]\n",
        "\n",
        "11. moving along: next interval = [12,14]\n",
        "\n",
        ": if condition : not merged= false\n",
        "                merged[-1] = [1,9] \n",
        "                merged[-1][1] = 9\n",
        "                interval[0]= 12\n",
        "                is 9<12 ? - Trye \n",
        "                1 condition true and it is an or statement ->\n",
        "\n",
        "                merge . append(interval) -> add this interval to merged\n",
        "\n",
        "                [[[1,9],[12,14]]\n",
        "\n",
        "\n",
        "final merged= [[1,9],[12,14]]"
      ]
    },
    {
      "cell_type": "code",
      "metadata": {
        "id": "vJvCMI-EOjwb"
      },
      "source": [
        ""
      ],
      "execution_count": null,
      "outputs": []
    }
  ]
}