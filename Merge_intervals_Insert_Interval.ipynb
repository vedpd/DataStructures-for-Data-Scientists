{
  "nbformat": 4,
  "nbformat_minor": 0,
  "metadata": {
    "colab": {
      "provenance": [],
      "authorship_tag": "ABX9TyNR5edXOI7IlZVxxye63NPz",
      "include_colab_link": true
    },
    "kernelspec": {
      "name": "python3",
      "display_name": "Python 3"
    },
    "language_info": {
      "name": "python"
    }
  },
  "cells": [
    {
      "cell_type": "markdown",
      "metadata": {
        "id": "view-in-github",
        "colab_type": "text"
      },
      "source": [
        "<a href=\"https://colab.research.google.com/github/vedpd/DataStructures-for-Data-Scientists/blob/main/Merge_intervals_Insert_Interval.ipynb\" target=\"_parent\"><img src=\"https://colab.research.google.com/assets/colab-badge.svg\" alt=\"Open In Colab\"/></a>"
      ]
    },
    {
      "cell_type": "markdown",
      "source": [
        "[Insert Interval](https://www.educative.io/module/page/GZjlABC0Qk49gvAKj/10370001/6545716109115392/5953444506238976)"
      ],
      "metadata": {
        "id": "c5q6hhPtFHeb"
      }
    },
    {
      "cell_type": "code",
      "execution_count": null,
      "metadata": {
        "id": "-L71lbJ7E_bn"
      },
      "outputs": [],
      "source": [
        "def insert_interval(existing_intervals, new_interval):\n",
        "    new_start, new_end = new_interval[0], new_interval[1]\n",
        "    i = 0\n",
        "    n = len(existing_intervals)\n",
        "    output = []\n",
        "    while i < n and existing_intervals[i][0] < new_start:\n",
        "        output.append(existing_intervals[i])\n",
        "        i = i + 1\n",
        "    if not output or output[-1][1] < new_start:\n",
        "        output.append(new_interval)\n",
        "    else:\n",
        "        output[-1][1] = max(output[-1][1], new_end)\n",
        "    while i < n:\n",
        "        ei = existing_intervals[i]\n",
        "        start, end = ei[0], ei[1]\n",
        "        if output[-1][1] < start:\n",
        "            output.append(ei)\n",
        "        else:\n",
        "            output[-1][1] = max(output[-1][1], end)\n",
        "        i += 1\n",
        "    return output\n",
        "\n",
        "# Driver code\n",
        "def main():\n",
        "    new_interval = [[5, 7], [8, 9], [10, 12], [1, 3], [1, 10]]\n",
        "    existing_intervals = [\n",
        "        [[1, 2], [3, 5], [6, 8]],\n",
        "        [[1, 3], [5, 7], [10, 12]],\n",
        "        [[8, 10], [12, 15]],\n",
        "        [[5, 7], [8, 9]],\n",
        "        [[3, 5]]\n",
        "    ]\n",
        "\n",
        "    for i in range(len(new_interval)):\n",
        "        print(i + 1, \".\\tExiting intervals: \", existing_intervals[i], sep=\"\")\n",
        "        print(\"\\tNew interval: \", new_interval[i], sep=\"\")\n",
        "        output = insert_interval(existing_intervals[i], new_interval[i])\n",
        "        print(\"\\tUpdated intervals: \", output, sep = \"\")\n",
        "        print(\"-\"*100)\n",
        "\n",
        "\n",
        "if __name__ == \"__main__\":\n",
        "    main()"
      ]
    }
  ]
}