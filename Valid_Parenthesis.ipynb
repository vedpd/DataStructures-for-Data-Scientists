{
  "nbformat": 4,
  "nbformat_minor": 0,
  "metadata": {
    "colab": {
      "name": "Valid Parenthesis.ipynb",
      "provenance": [],
      "collapsed_sections": [],
      "authorship_tag": "ABX9TyMAbvtWvG+ZZsfYIMfJVr2f",
      "include_colab_link": true
    },
    "kernelspec": {
      "name": "python3",
      "display_name": "Python 3"
    }
  },
  "cells": [
    {
      "cell_type": "markdown",
      "metadata": {
        "id": "view-in-github",
        "colab_type": "text"
      },
      "source": [
        "<a href=\"https://colab.research.google.com/github/vedpd/DataStructures-for-Data-Scientists/blob/main/Valid_Parenthesis.ipynb\" target=\"_parent\"><img src=\"https://colab.research.google.com/assets/colab-badge.svg\" alt=\"Open In Colab\"/></a>"
      ]
    },
    {
      "cell_type": "markdown",
      "metadata": {
        "id": "-u7aLI4miB6l"
      },
      "source": [
        "**[Valid Parenthesis](https://eetcode.com/problems/valid-parentheses/submissions/)**"
      ]
    },
    {
      "cell_type": "markdown",
      "metadata": {
        "id": "AWLEv376jSWl"
      },
      "source": [
        "**Problem Statement**<br>\n",
        "Given a string of opening and closing parentheses, check whether it’s balanced. We have 3 types of parentheses: round brackets: (), square brackets: [], and curly brackets: {}. Assume that the string doesn’t contain any other character than these, no spaces words or numbers. As a reminder, balanced parentheses require every opening parenthesis to be closed in the reverse order opened. For example ‘([])’ is balanced but ‘([)]’ is not.\n",
        "\n",
        "You can assume the input string has no spaces.\n",
        "\n",
        "**Solution** <br>\n",
        "This is a very common interview question and is one of the main ways to check your knowledge of using Stacks! We will start our solution logic as such:\n",
        "\n",
        "First we will scan the string from left to right, and every time we see an opening parenthesis we push it to a stack, because we want the last opening parenthesis to be closed first. (Remember the FILO structure of a stack!)\n",
        "\n",
        "Then, when we see a closing parenthesis we check whether the last opened one is the corresponding closing match, by popping an element from the stack. If it’s a valid match, then we proceed forward, if not return false.\n",
        "\n",
        "Or if the stack is empty we also return false, because there’s no opening parenthesis associated with this closing one. In the end, we also check whether the stack is empty. If so, we return true, otherwise return false because there were some opened parenthesis that were not closed.\n",
        "\n",
        "\n",
        "Here's an example solution:"
      ]
    },
    {
      "cell_type": "code",
      "metadata": {
        "id": "5XXS3x9mh9yF"
      },
      "source": [
        "    def isValid(s) -> bool:\n",
        "        if len(s)%2!=0:\n",
        "            return False\n",
        "        dic={\n",
        "            '(':')',\n",
        "            '{':'}',\n",
        "            '[':']'\n",
        "        }\n",
        "        \n",
        "        stack=[]\n",
        "        for c in s:\n",
        "            if c in dic.keys():\n",
        "                stack.append(c)\n",
        "                \n",
        "            else:\n",
        "                #not stack - means if stack has no elements (no stack) and satisfied = true\n",
        "                # if stack has element then this section will be false and it means there is a key\n",
        "                # dic[key, where key is one of opening bracket], outcome = value is not equal \n",
        "                # to c or 2nd element in string then return false\n",
        "                # after all the operations if nothing is in stack- return that as true\n",
        "                if not stack or dic[stack.pop()]!=c: \n",
        "                    return False\n",
        "        return not stack"
      ],
      "execution_count": 7,
      "outputs": []
    },
    {
      "cell_type": "code",
      "metadata": {
        "id": "yyp4eFFhiQPu",
        "outputId": "fa246822-8637-4a3e-ec27-52daf6d9c4c2",
        "colab": {
          "base_uri": "https://localhost:8080/"
        }
      },
      "source": [
        "isValid('[]')"
      ],
      "execution_count": 8,
      "outputs": [
        {
          "output_type": "execute_result",
          "data": {
            "text/plain": [
              "True"
            ]
          },
          "metadata": {
            "tags": []
          },
          "execution_count": 8
        }
      ]
    },
    {
      "cell_type": "code",
      "metadata": {
        "id": "F9Ca1-2ai2aU",
        "outputId": "199c9e2d-fcbb-4353-d7b8-792b41cce998",
        "colab": {
          "base_uri": "https://localhost:8080/"
        }
      },
      "source": [
        "isValid('[](){([[[]]])}')"
      ],
      "execution_count": 9,
      "outputs": [
        {
          "output_type": "execute_result",
          "data": {
            "text/plain": [
              "True"
            ]
          },
          "metadata": {
            "tags": []
          },
          "execution_count": 9
        }
      ]
    },
    {
      "cell_type": "code",
      "metadata": {
        "id": "EFm09jH7jf-o",
        "outputId": "f34fca03-22d8-489b-badc-44434b14525a",
        "colab": {
          "base_uri": "https://localhost:8080/"
        }
      },
      "source": [
        "isValid('()(){]}')"
      ],
      "execution_count": 10,
      "outputs": [
        {
          "output_type": "execute_result",
          "data": {
            "text/plain": [
              "False"
            ]
          },
          "metadata": {
            "tags": []
          },
          "execution_count": 10
        }
      ]
    },
    {
      "cell_type": "code",
      "metadata": {
        "id": "7KvcmcPQjkqh"
      },
      "source": [
        ""
      ],
      "execution_count": null,
      "outputs": []
    }
  ]
}