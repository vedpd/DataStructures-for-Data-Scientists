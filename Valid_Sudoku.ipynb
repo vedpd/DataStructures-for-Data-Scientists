{
  "nbformat": 4,
  "nbformat_minor": 0,
  "metadata": {
    "colab": {
      "provenance": [],
      "authorship_tag": "ABX9TyPjaLySDxJfgSIfRqHEQxgF",
      "include_colab_link": true
    },
    "kernelspec": {
      "name": "python3",
      "display_name": "Python 3"
    },
    "language_info": {
      "name": "python"
    }
  },
  "cells": [
    {
      "cell_type": "markdown",
      "metadata": {
        "id": "view-in-github",
        "colab_type": "text"
      },
      "source": [
        "<a href=\"https://colab.research.google.com/github/vedpd/DataStructures-for-Data-Scientists/blob/main/Valid_Sudoku.ipynb\" target=\"_parent\"><img src=\"https://colab.research.google.com/assets/colab-badge.svg\" alt=\"Open In Colab\"/></a>"
      ]
    },
    {
      "cell_type": "markdown",
      "source": [
        "36. [Valid Sudoku](https://leetcode.com/problems/valid-sudoku/description/)\n",
        "Solved\n",
        "Medium\n",
        "Topics\n",
        "Companies\n",
        "Determine if a 9 x 9 Sudoku board is valid. Only the filled cells need to be validated according to the following rules:\n",
        "\n",
        "Each row must contain the digits 1-9 without repetition.\n",
        "Each column must contain the digits 1-9 without repetition.\n",
        "Each of the nine 3 x 3 sub-boxes of the grid must contain the digits 1-9 without repetition.\n",
        "Note:\n",
        "\n",
        "A Sudoku board (partially filled) could be valid but is not necessarily solvable.\n",
        "Only the filled cells need to be validated according to the mentioned rules.\n",
        "\n",
        "\n",
        "Example 1:\n",
        "\n",
        "\n",
        "Input: board =\n",
        "[[\"5\",\"3\",\".\",\".\",\"7\",\".\",\".\",\".\",\".\"]\n",
        ",[\"6\",\".\",\".\",\"1\",\"9\",\"5\",\".\",\".\",\".\"]\n",
        ",[\".\",\"9\",\"8\",\".\",\".\",\".\",\".\",\"6\",\".\"]\n",
        ",[\"8\",\".\",\".\",\".\",\"6\",\".\",\".\",\".\",\"3\"]\n",
        ",[\"4\",\".\",\".\",\"8\",\".\",\"3\",\".\",\".\",\"1\"]\n",
        ",[\"7\",\".\",\".\",\".\",\"2\",\".\",\".\",\".\",\"6\"]\n",
        ",[\".\",\"6\",\".\",\".\",\".\",\".\",\"2\",\"8\",\".\"]\n",
        ",[\".\",\".\",\".\",\"4\",\"1\",\"9\",\".\",\".\",\"5\"]\n",
        ",[\".\",\".\",\".\",\".\",\"8\",\".\",\".\",\"7\",\"9\"]]\n",
        "Output: true\n",
        "Example 2:\n",
        "\n",
        "Input: board =\n",
        "[[\"8\",\"3\",\".\",\".\",\"7\",\".\",\".\",\".\",\".\"]\n",
        ",[\"6\",\".\",\".\",\"1\",\"9\",\"5\",\".\",\".\",\".\"]\n",
        ",[\".\",\"9\",\"8\",\".\",\".\",\".\",\".\",\"6\",\".\"]\n",
        ",[\"8\",\".\",\".\",\".\",\"6\",\".\",\".\",\".\",\"3\"]\n",
        ",[\"4\",\".\",\".\",\"8\",\".\",\"3\",\".\",\".\",\"1\"]\n",
        ",[\"7\",\".\",\".\",\".\",\"2\",\".\",\".\",\".\",\"6\"]\n",
        ",[\".\",\"6\",\".\",\".\",\".\",\".\",\"2\",\"8\",\".\"]\n",
        ",[\".\",\".\",\".\",\"4\",\"1\",\"9\",\".\",\".\",\"5\"]\n",
        ",[\".\",\".\",\".\",\".\",\"8\",\".\",\".\",\"7\",\"9\"]]\n",
        "Output: false\n",
        "Explanation: Same as Example 1, except with the 5 in the top left corner being modified to 8. Since there are two 8's in the top left 3x3 sub-box, it is invalid.\n",
        "\n",
        "\n",
        "Constraints:\n",
        "\n",
        "board.length == 9\n",
        "board[i].length == 9\n",
        "board[i][j] is a digit 1-9 or '.'."
      ],
      "metadata": {
        "id": "8DkaUtg4dkOr"
      }
    },
    {
      "cell_type": "code",
      "execution_count": null,
      "metadata": {
        "id": "mO5HuuWPdf-L"
      },
      "outputs": [],
      "source": [
        "class Solution:\n",
        "    def isValidSudoku(self, board: List[List[str]]) -> bool:\n",
        "        #check in a grid\n",
        "        # check across 1 row and values in list\n",
        "        # check across 1 column and all values in list\n",
        "        res = []\n",
        "        for i in range(9):\n",
        "            for j in range(9):\n",
        "                element = board[i][j]\n",
        "                if element != '.':\n",
        "                    res += [(i, element), (element, j), (i // 3, j // 3, element)]\n",
        "        return len(res) == len(set(res))\n",
        ""
      ]
    },
    {
      "cell_type": "markdown",
      "source": [
        "Approach\n",
        "Initialize an empty list r to store seen elements in rows, columns, and 3x3 subgrids.\n",
        "Iterate through the Sudoku board using two nested loops.\n",
        "For each element encountered in the board:\n",
        "Check if the element is not '.' (an empty cell).\n",
        "If not empty, perform the following checks:</br></br>\n",
        "Check for violations in the current row by appending the tuple (i, ele) to r.\n",
        "Check for violations in the current column by appending the tuple (ele, j) to r.\n",
        "Check for violations in the current 3x3 subgrid by appending the tuple (i // 3, j // 3, ele) to r.</br></br>\n",
        "After iterating through the entire board, check if there are any violations. If the length of the list r is not equal to the length of the set created from r, return False, indicating a violation.\n",
        "If the entire board is iterated without any violations, return True, indicating a valid Sudoku board.</br></br>\n",
        "Explanation:</br>\n",
        "When an element is not empty (i.e., not '.'), it is checked for violations in the current row, column, and subgrid.\n",
        "Violations can occur if the same number is found more than once in the same row, column, or subgrid.\n",
        "The tuple (i // 3, j // 3, ele) is used to represent the subgrid. This helps identify the unique 3x3 subgrid for each element in the board.\n",
        "The use of a set in the last step ensures that each tuple in r is unique, checking for violations across rows, columns, and subgrids.\n",
        "The return statement checks whether the length of r is equal to the length of the set. If they are equal, it means there are no violations, and the Sudoku board is valid. </br></br>\n",
        "Complexity\n",
        "Time complexity:\n",
        "The time complexity is O(1) since the size of the Sudoku board is fixed (9x9).\n",
        "Space complexity:\n",
        "The space complexity is O(1) since the size of the sets used for tracking elements in rows, columns, and subgrids is fixed.\n",
        "\n",
        "\n",
        "\n"
      ],
      "metadata": {
        "id": "2HB0gWH9d0Kt"
      }
    }
  ]
}