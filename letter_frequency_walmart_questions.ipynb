{
  "nbformat": 4,
  "nbformat_minor": 0,
  "metadata": {
    "colab": {
      "provenance": [],
      "authorship_tag": "ABX9TyNUe0z1lbP5MZ9cdHS++wt/",
      "include_colab_link": true
    },
    "kernelspec": {
      "name": "python3",
      "display_name": "Python 3"
    },
    "language_info": {
      "name": "python"
    }
  },
  "cells": [
    {
      "cell_type": "markdown",
      "metadata": {
        "id": "view-in-github",
        "colab_type": "text"
      },
      "source": [
        "<a href=\"https://colab.research.google.com/github/vedpd/DataStructures-for-Data-Scientists/blob/main/letter_frequency_walmart_questions.ipynb\" target=\"_parent\"><img src=\"https://colab.research.google.com/assets/colab-badge.svg\" alt=\"Open In Colab\"/></a>"
      ]
    },
    {
      "cell_type": "code",
      "execution_count": null,
      "metadata": {
        "id": "g1dmNZOnuDQ-"
      },
      "outputs": [],
      "source": [
        "# list with strings\n",
        "# order of selection of string should not be same as initial list\n",
        "# the string once selected should not reappear\n",
        "\n",
        "#pseduocode\n",
        "# 1st: track: when a song is picked - compare it with index of the string in the list\n",
        "# if index and number is same : repick another string\n",
        "# seen = set() - store the song picked/string picked in this case\n",
        "# in case of next random selection: also check if the string is already present in the seen list\n",
        "\n",
        "\n",
        "#Approach:2\n",
        "# generate a new string using random selection\n",
        "# swap this with the element which was present at the\n",
        "\n",
        "\n",
        "['a','b','c','d','e'] , 2\n",
        "\n",
        "random = 4\n",
        "\n",
        "list : [0:2] , [3,n+1] will go till n\n",
        "\n",
        "select : 'b'\n",
        "\n",
        "index: 1\n",
        "\n",
        "swap: b->c , c->b\n",
        "\n",
        "#\n",
        "\n",
        "#look at the songs from anything to the left of the already obtained index and to the right\n",
        "\n",
        "def random_song_order(songs_list):\n",
        "\n",
        "  count_songs_played = 0\n",
        "  n = len(songs_list)\n",
        "  n_random_song_index = random.randint(1,n)\n",
        "  random_song_name = songs_list[n_random_song_index]\n",
        "\n",
        "  count_songs_played += 1\n",
        "\n",
        "  n -= 1\n",
        "\n",
        "  songs_list[0:n_random_song_index] + songs_list[n_random_song_index+1,n]\n",
        "\n",
        "  n_random_song_index\n",
        "\n",
        "\n",
        "\n",
        "\n",
        "  index_song= [i for i in range(0,n) if songs_list[i]]\n",
        "\n",
        "  if songs_list[n_random_song] == songs_list\n",
        "\n",
        "  # if index, val in enumerate(songs_list):\n",
        "\n",
        "\n",
        "\n",
        "\n",
        "\n",
        "\n",
        "\n",
        "\n"
      ]
    },
    {
      "cell_type": "code",
      "source": [
        "nums = [i for i in range(1,1001)]"
      ],
      "metadata": {
        "id": "Ho_Nwl2SZvn_"
      },
      "execution_count": null,
      "outputs": []
    },
    {
      "cell_type": "code",
      "source": [
        "print({num:max([divisor for divisor in range(1,10) if num % divisor == 0]) for num in nums})\n",
        "\n"
      ],
      "metadata": {
        "colab": {
          "base_uri": "https://localhost:8080/"
        },
        "id": "Tg0hb0x5Zt1q",
        "outputId": "3fca43c0-5899-4b45-f0ac-6c15ec004642"
      },
      "execution_count": null,
      "outputs": [
        {
          "output_type": "stream",
          "name": "stdout",
          "text": [
            "{1: 1, 2: 2, 3: 3, 4: 4, 5: 5, 6: 6, 7: 7, 8: 8, 9: 9, 10: 5, 11: 1, 12: 6, 13: 1, 14: 7, 15: 5, 16: 8, 17: 1, 18: 9, 19: 1, 20: 5, 21: 7, 22: 2, 23: 1, 24: 8, 25: 5, 26: 2, 27: 9, 28: 7, 29: 1, 30: 6, 31: 1, 32: 8, 33: 3, 34: 2, 35: 7, 36: 9, 37: 1, 38: 2, 39: 3, 40: 8, 41: 1, 42: 7, 43: 1, 44: 4, 45: 9, 46: 2, 47: 1, 48: 8, 49: 7, 50: 5, 51: 3, 52: 4, 53: 1, 54: 9, 55: 5, 56: 8, 57: 3, 58: 2, 59: 1, 60: 6, 61: 1, 62: 2, 63: 9, 64: 8, 65: 5, 66: 6, 67: 1, 68: 4, 69: 3, 70: 7, 71: 1, 72: 9, 73: 1, 74: 2, 75: 5, 76: 4, 77: 7, 78: 6, 79: 1, 80: 8, 81: 9, 82: 2, 83: 1, 84: 7, 85: 5, 86: 2, 87: 3, 88: 8, 89: 1, 90: 9, 91: 7, 92: 4, 93: 3, 94: 2, 95: 5, 96: 8, 97: 1, 98: 7, 99: 9, 100: 5, 101: 1, 102: 6, 103: 1, 104: 8, 105: 7, 106: 2, 107: 1, 108: 9, 109: 1, 110: 5, 111: 3, 112: 8, 113: 1, 114: 6, 115: 5, 116: 4, 117: 9, 118: 2, 119: 7, 120: 8, 121: 1, 122: 2, 123: 3, 124: 4, 125: 5, 126: 9, 127: 1, 128: 8, 129: 3, 130: 5, 131: 1, 132: 6, 133: 7, 134: 2, 135: 9, 136: 8, 137: 1, 138: 6, 139: 1, 140: 7, 141: 3, 142: 2, 143: 1, 144: 9, 145: 5, 146: 2, 147: 7, 148: 4, 149: 1, 150: 6, 151: 1, 152: 8, 153: 9, 154: 7, 155: 5, 156: 6, 157: 1, 158: 2, 159: 3, 160: 8, 161: 7, 162: 9, 163: 1, 164: 4, 165: 5, 166: 2, 167: 1, 168: 8, 169: 1, 170: 5, 171: 9, 172: 4, 173: 1, 174: 6, 175: 7, 176: 8, 177: 3, 178: 2, 179: 1, 180: 9, 181: 1, 182: 7, 183: 3, 184: 8, 185: 5, 186: 6, 187: 1, 188: 4, 189: 9, 190: 5, 191: 1, 192: 8, 193: 1, 194: 2, 195: 5, 196: 7, 197: 1, 198: 9, 199: 1, 200: 8, 201: 3, 202: 2, 203: 7, 204: 6, 205: 5, 206: 2, 207: 9, 208: 8, 209: 1, 210: 7, 211: 1, 212: 4, 213: 3, 214: 2, 215: 5, 216: 9, 217: 7, 218: 2, 219: 3, 220: 5, 221: 1, 222: 6, 223: 1, 224: 8, 225: 9, 226: 2, 227: 1, 228: 6, 229: 1, 230: 5, 231: 7, 232: 8, 233: 1, 234: 9, 235: 5, 236: 4, 237: 3, 238: 7, 239: 1, 240: 8, 241: 1, 242: 2, 243: 9, 244: 4, 245: 7, 246: 6, 247: 1, 248: 8, 249: 3, 250: 5, 251: 1, 252: 9, 253: 1, 254: 2, 255: 5, 256: 8, 257: 1, 258: 6, 259: 7, 260: 5, 261: 9, 262: 2, 263: 1, 264: 8, 265: 5, 266: 7, 267: 3, 268: 4, 269: 1, 270: 9, 271: 1, 272: 8, 273: 7, 274: 2, 275: 5, 276: 6, 277: 1, 278: 2, 279: 9, 280: 8, 281: 1, 282: 6, 283: 1, 284: 4, 285: 5, 286: 2, 287: 7, 288: 9, 289: 1, 290: 5, 291: 3, 292: 4, 293: 1, 294: 7, 295: 5, 296: 8, 297: 9, 298: 2, 299: 1, 300: 6, 301: 7, 302: 2, 303: 3, 304: 8, 305: 5, 306: 9, 307: 1, 308: 7, 309: 3, 310: 5, 311: 1, 312: 8, 313: 1, 314: 2, 315: 9, 316: 4, 317: 1, 318: 6, 319: 1, 320: 8, 321: 3, 322: 7, 323: 1, 324: 9, 325: 5, 326: 2, 327: 3, 328: 8, 329: 7, 330: 6, 331: 1, 332: 4, 333: 9, 334: 2, 335: 5, 336: 8, 337: 1, 338: 2, 339: 3, 340: 5, 341: 1, 342: 9, 343: 7, 344: 8, 345: 5, 346: 2, 347: 1, 348: 6, 349: 1, 350: 7, 351: 9, 352: 8, 353: 1, 354: 6, 355: 5, 356: 4, 357: 7, 358: 2, 359: 1, 360: 9, 361: 1, 362: 2, 363: 3, 364: 7, 365: 5, 366: 6, 367: 1, 368: 8, 369: 9, 370: 5, 371: 7, 372: 6, 373: 1, 374: 2, 375: 5, 376: 8, 377: 1, 378: 9, 379: 1, 380: 5, 381: 3, 382: 2, 383: 1, 384: 8, 385: 7, 386: 2, 387: 9, 388: 4, 389: 1, 390: 6, 391: 1, 392: 8, 393: 3, 394: 2, 395: 5, 396: 9, 397: 1, 398: 2, 399: 7, 400: 8, 401: 1, 402: 6, 403: 1, 404: 4, 405: 9, 406: 7, 407: 1, 408: 8, 409: 1, 410: 5, 411: 3, 412: 4, 413: 7, 414: 9, 415: 5, 416: 8, 417: 3, 418: 2, 419: 1, 420: 7, 421: 1, 422: 2, 423: 9, 424: 8, 425: 5, 426: 6, 427: 7, 428: 4, 429: 3, 430: 5, 431: 1, 432: 9, 433: 1, 434: 7, 435: 5, 436: 4, 437: 1, 438: 6, 439: 1, 440: 8, 441: 9, 442: 2, 443: 1, 444: 6, 445: 5, 446: 2, 447: 3, 448: 8, 449: 1, 450: 9, 451: 1, 452: 4, 453: 3, 454: 2, 455: 7, 456: 8, 457: 1, 458: 2, 459: 9, 460: 5, 461: 1, 462: 7, 463: 1, 464: 8, 465: 5, 466: 2, 467: 1, 468: 9, 469: 7, 470: 5, 471: 3, 472: 8, 473: 1, 474: 6, 475: 5, 476: 7, 477: 9, 478: 2, 479: 1, 480: 8, 481: 1, 482: 2, 483: 7, 484: 4, 485: 5, 486: 9, 487: 1, 488: 8, 489: 3, 490: 7, 491: 1, 492: 6, 493: 1, 494: 2, 495: 9, 496: 8, 497: 7, 498: 6, 499: 1, 500: 5, 501: 3, 502: 2, 503: 1, 504: 9, 505: 5, 506: 2, 507: 3, 508: 4, 509: 1, 510: 6, 511: 7, 512: 8, 513: 9, 514: 2, 515: 5, 516: 6, 517: 1, 518: 7, 519: 3, 520: 8, 521: 1, 522: 9, 523: 1, 524: 4, 525: 7, 526: 2, 527: 1, 528: 8, 529: 1, 530: 5, 531: 9, 532: 7, 533: 1, 534: 6, 535: 5, 536: 8, 537: 3, 538: 2, 539: 7, 540: 9, 541: 1, 542: 2, 543: 3, 544: 8, 545: 5, 546: 7, 547: 1, 548: 4, 549: 9, 550: 5, 551: 1, 552: 8, 553: 7, 554: 2, 555: 5, 556: 4, 557: 1, 558: 9, 559: 1, 560: 8, 561: 3, 562: 2, 563: 1, 564: 6, 565: 5, 566: 2, 567: 9, 568: 8, 569: 1, 570: 6, 571: 1, 572: 4, 573: 3, 574: 7, 575: 5, 576: 9, 577: 1, 578: 2, 579: 3, 580: 5, 581: 7, 582: 6, 583: 1, 584: 8, 585: 9, 586: 2, 587: 1, 588: 7, 589: 1, 590: 5, 591: 3, 592: 8, 593: 1, 594: 9, 595: 7, 596: 4, 597: 3, 598: 2, 599: 1, 600: 8, 601: 1, 602: 7, 603: 9, 604: 4, 605: 5, 606: 6, 607: 1, 608: 8, 609: 7, 610: 5, 611: 1, 612: 9, 613: 1, 614: 2, 615: 5, 616: 8, 617: 1, 618: 6, 619: 1, 620: 5, 621: 9, 622: 2, 623: 7, 624: 8, 625: 5, 626: 2, 627: 3, 628: 4, 629: 1, 630: 9, 631: 1, 632: 8, 633: 3, 634: 2, 635: 5, 636: 6, 637: 7, 638: 2, 639: 9, 640: 8, 641: 1, 642: 6, 643: 1, 644: 7, 645: 5, 646: 2, 647: 1, 648: 9, 649: 1, 650: 5, 651: 7, 652: 4, 653: 1, 654: 6, 655: 5, 656: 8, 657: 9, 658: 7, 659: 1, 660: 6, 661: 1, 662: 2, 663: 3, 664: 8, 665: 7, 666: 9, 667: 1, 668: 4, 669: 3, 670: 5, 671: 1, 672: 8, 673: 1, 674: 2, 675: 9, 676: 4, 677: 1, 678: 6, 679: 7, 680: 8, 681: 3, 682: 2, 683: 1, 684: 9, 685: 5, 686: 7, 687: 3, 688: 8, 689: 1, 690: 6, 691: 1, 692: 4, 693: 9, 694: 2, 695: 5, 696: 8, 697: 1, 698: 2, 699: 3, 700: 7, 701: 1, 702: 9, 703: 1, 704: 8, 705: 5, 706: 2, 707: 7, 708: 6, 709: 1, 710: 5, 711: 9, 712: 8, 713: 1, 714: 7, 715: 5, 716: 4, 717: 3, 718: 2, 719: 1, 720: 9, 721: 7, 722: 2, 723: 3, 724: 4, 725: 5, 726: 6, 727: 1, 728: 8, 729: 9, 730: 5, 731: 1, 732: 6, 733: 1, 734: 2, 735: 7, 736: 8, 737: 1, 738: 9, 739: 1, 740: 5, 741: 3, 742: 7, 743: 1, 744: 8, 745: 5, 746: 2, 747: 9, 748: 4, 749: 7, 750: 6, 751: 1, 752: 8, 753: 3, 754: 2, 755: 5, 756: 9, 757: 1, 758: 2, 759: 3, 760: 8, 761: 1, 762: 6, 763: 7, 764: 4, 765: 9, 766: 2, 767: 1, 768: 8, 769: 1, 770: 7, 771: 3, 772: 4, 773: 1, 774: 9, 775: 5, 776: 8, 777: 7, 778: 2, 779: 1, 780: 6, 781: 1, 782: 2, 783: 9, 784: 8, 785: 5, 786: 6, 787: 1, 788: 4, 789: 3, 790: 5, 791: 7, 792: 9, 793: 1, 794: 2, 795: 5, 796: 4, 797: 1, 798: 7, 799: 1, 800: 8, 801: 9, 802: 2, 803: 1, 804: 6, 805: 7, 806: 2, 807: 3, 808: 8, 809: 1, 810: 9, 811: 1, 812: 7, 813: 3, 814: 2, 815: 5, 816: 8, 817: 1, 818: 2, 819: 9, 820: 5, 821: 1, 822: 6, 823: 1, 824: 8, 825: 5, 826: 7, 827: 1, 828: 9, 829: 1, 830: 5, 831: 3, 832: 8, 833: 7, 834: 6, 835: 5, 836: 4, 837: 9, 838: 2, 839: 1, 840: 8, 841: 1, 842: 2, 843: 3, 844: 4, 845: 5, 846: 9, 847: 7, 848: 8, 849: 3, 850: 5, 851: 1, 852: 6, 853: 1, 854: 7, 855: 9, 856: 8, 857: 1, 858: 6, 859: 1, 860: 5, 861: 7, 862: 2, 863: 1, 864: 9, 865: 5, 866: 2, 867: 3, 868: 7, 869: 1, 870: 6, 871: 1, 872: 8, 873: 9, 874: 2, 875: 7, 876: 6, 877: 1, 878: 2, 879: 3, 880: 8, 881: 1, 882: 9, 883: 1, 884: 4, 885: 5, 886: 2, 887: 1, 888: 8, 889: 7, 890: 5, 891: 9, 892: 4, 893: 1, 894: 6, 895: 5, 896: 8, 897: 3, 898: 2, 899: 1, 900: 9, 901: 1, 902: 2, 903: 7, 904: 8, 905: 5, 906: 6, 907: 1, 908: 4, 909: 9, 910: 7, 911: 1, 912: 8, 913: 1, 914: 2, 915: 5, 916: 4, 917: 7, 918: 9, 919: 1, 920: 8, 921: 3, 922: 2, 923: 1, 924: 7, 925: 5, 926: 2, 927: 9, 928: 8, 929: 1, 930: 6, 931: 7, 932: 4, 933: 3, 934: 2, 935: 5, 936: 9, 937: 1, 938: 7, 939: 3, 940: 5, 941: 1, 942: 6, 943: 1, 944: 8, 945: 9, 946: 2, 947: 1, 948: 6, 949: 1, 950: 5, 951: 3, 952: 8, 953: 1, 954: 9, 955: 5, 956: 4, 957: 3, 958: 2, 959: 7, 960: 8, 961: 1, 962: 2, 963: 9, 964: 4, 965: 5, 966: 7, 967: 1, 968: 8, 969: 3, 970: 5, 971: 1, 972: 9, 973: 7, 974: 2, 975: 5, 976: 8, 977: 1, 978: 6, 979: 1, 980: 7, 981: 9, 982: 2, 983: 1, 984: 8, 985: 5, 986: 2, 987: 7, 988: 4, 989: 1, 990: 9, 991: 1, 992: 8, 993: 3, 994: 7, 995: 5, 996: 6, 997: 1, 998: 2, 999: 9, 1000: 8}\n"
          ]
        }
      ]
    },
    {
      "cell_type": "code",
      "source": [
        "def calculate_letter_frequency(text):\n",
        "    # Convert the text to lowercase to treat uppercase and lowercase letters equally\n",
        "    text = text.lower()\n",
        "\n",
        "    # Initialize a dictionary to store the frequency of each letter\n",
        "    letter_frequency = {}\n",
        "\n",
        "    # Iterate through each character in the text\n",
        "    for char in text:\n",
        "        # Check if the character is a letter\n",
        "        if char.isalpha():\n",
        "            # If the letter is already in the dictionary, increment its count\n",
        "            if char in letter_frequency:\n",
        "                letter_frequency[char] += 1\n",
        "            # Otherwise, initialize its count to 1\n",
        "            else:\n",
        "                letter_frequency[char] = 1\n",
        "\n",
        "    # Return the dictionary containing the letter frequencies\n",
        "    return letter_frequency\n",
        "\n",
        "# Example text\n",
        "text = \"Lorem ipsum dolor sit amet, consectetur adipiscing elit.\"\n",
        "\n",
        "# Calculate the letter frequency\n",
        "frequency_result = calculate_letter_frequency(text)\n",
        "\n",
        "# Print the letter frequency\n",
        "for letter, frequency in sorted(frequency_result.items()):\n",
        "    print(f\"Letter '{letter}' occurs {frequency} times.\")\n"
      ],
      "metadata": {
        "colab": {
          "base_uri": "https://localhost:8080/"
        },
        "id": "i4n4fjM0Z4YX",
        "outputId": "7cca3761-05d2-4ee9-e193-55a300a28f79"
      },
      "execution_count": null,
      "outputs": [
        {
          "output_type": "stream",
          "name": "stdout",
          "text": [
            "Letter 'a' occurs 2 times.\n",
            "Letter 'c' occurs 3 times.\n",
            "Letter 'd' occurs 2 times.\n",
            "Letter 'e' occurs 5 times.\n",
            "Letter 'g' occurs 1 times.\n",
            "Letter 'i' occurs 6 times.\n",
            "Letter 'l' occurs 3 times.\n",
            "Letter 'm' occurs 3 times.\n",
            "Letter 'n' occurs 2 times.\n",
            "Letter 'o' occurs 4 times.\n",
            "Letter 'p' occurs 2 times.\n",
            "Letter 'r' occurs 3 times.\n",
            "Letter 's' occurs 4 times.\n",
            "Letter 't' occurs 5 times.\n",
            "Letter 'u' occurs 2 times.\n"
          ]
        }
      ]
    },
    {
      "cell_type": "code",
      "source": [
        "    text = \"lorem ipsum\"\n",
        "    text = text.lower()\n",
        "\n",
        "    # Initialize a dictionary to store the frequency of each letter\n",
        "    # letter_frequency = {}\n",
        "\n",
        "    # Iterate through each character in the text\n",
        "    for char in text:\n",
        "      print(char)"
      ],
      "metadata": {
        "colab": {
          "base_uri": "https://localhost:8080/"
        },
        "id": "dslu_znJl5fD",
        "outputId": "ea57d94b-4c0a-4595-f18a-af02505e6a80"
      },
      "execution_count": null,
      "outputs": [
        {
          "output_type": "stream",
          "name": "stdout",
          "text": [
            "l\n",
            "o\n",
            "r\n",
            "e\n",
            "m\n",
            " \n",
            "i\n",
            "p\n",
            "s\n",
            "u\n",
            "m\n"
          ]
        }
      ]
    },
    {
      "cell_type": "code",
      "source": [
        "items_as_tuples = list(frequency_result.items())\n",
        "\n",
        "# Print the list of tuples\n",
        "print(items_as_tuples)"
      ],
      "metadata": {
        "colab": {
          "base_uri": "https://localhost:8080/"
        },
        "id": "pqrGJM4hlaiQ",
        "outputId": "99523abd-0721-4ff0-a14a-218d76c46676"
      },
      "execution_count": null,
      "outputs": [
        {
          "output_type": "stream",
          "name": "stdout",
          "text": [
            "[('l', 3), ('o', 4), ('r', 3), ('e', 5), ('m', 3), ('i', 6), ('p', 2), ('s', 4), ('u', 2), ('d', 2), ('t', 5), ('a', 2), ('c', 3), ('n', 2), ('g', 1)]\n"
          ]
        }
      ]
    },
    {
      "cell_type": "code",
      "source": [
        "frequency_result.items()"
      ],
      "metadata": {
        "colab": {
          "base_uri": "https://localhost:8080/"
        },
        "id": "wsLpibJRn0WQ",
        "outputId": "cd61fe57-ce61-4ff7-df9d-955912e85b0f"
      },
      "execution_count": null,
      "outputs": [
        {
          "output_type": "execute_result",
          "data": {
            "text/plain": [
              "dict_items([('l', 3), ('o', 4), ('r', 3), ('e', 5), ('m', 3), ('i', 6), ('p', 2), ('s', 4), ('u', 2), ('d', 2), ('t', 5), ('a', 2), ('c', 3), ('n', 2), ('g', 1)])"
            ]
          },
          "metadata": {},
          "execution_count": 8
        }
      ]
    },
    {
      "cell_type": "code",
      "source": [],
      "metadata": {
        "id": "IS86Tc44n5gy"
      },
      "execution_count": null,
      "outputs": []
    }
  ]
}